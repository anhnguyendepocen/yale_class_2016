{
 "cells": [
  {
   "cell_type": "markdown",
   "metadata": {},
   "source": [
    "## Equilibrium Price, Take 2\n",
    "\n",
    "\n",
    "### Jan 2016"
   ]
  },
  {
   "cell_type": "markdown",
   "metadata": {},
   "source": [
    "First we import some functionality from the scientific libraries"
   ]
  },
  {
   "cell_type": "code",
   "execution_count": 22,
   "metadata": {
    "collapsed": true
   },
   "outputs": [],
   "source": [
    "import numpy as np\n",
    "from scipy.optimize import bisect"
   ]
  },
  {
   "cell_type": "markdown",
   "metadata": {},
   "source": [
    "Now let's write routines to compute supply and demand as functions of price and parameters:"
   ]
  },
  {
   "cell_type": "code",
   "execution_count": null,
   "metadata": {
    "collapsed": true
   },
   "outputs": [],
   "source": [
    "def supply(price, b):\n",
    "    return np.exp(b * price) - 1\n",
    "\n",
    "def demand(price, a, epsilon):\n",
    "    return a * price**(-epsilon)"
   ]
  },
  {
   "cell_type": "markdown",
   "metadata": {},
   "source": [
    "Next we'll write a function that takes a parameter set and returns a market clearing price via bisection:"
   ]
  },
  {
   "cell_type": "code",
   "execution_count": 41,
   "metadata": {
    "collapsed": true
   },
   "outputs": [],
   "source": [
    "def compute_equilibrium(a, b, epsilon):\n",
    "    plow = 0.1\n",
    "    phigh = 10.0\n",
    "    def excess_supply(price):\n",
    "        return supply(price, b) - demand(price, a, epsilon)\n",
    "\n",
    "    pclear = bisect(excess_supply, plow, phigh)\n",
    "    return pclear"
   ]
  },
  {
   "cell_type": "markdown",
   "metadata": {},
   "source": [
    "Let's test it with the original parameter set, the market clearing price for which was 2.9334.  The parameters are\n",
    "\n",
    "$$ a = 1, \\quad b = 0.1, \\quad \\epsilon = 1 $$"
   ]
  },
  {
   "cell_type": "code",
   "execution_count": 42,
   "metadata": {
    "collapsed": false
   },
   "outputs": [
    {
     "data": {
      "text/plain": [
       "2.9334108855344145"
      ]
     },
     "execution_count": 42,
     "metadata": {},
     "output_type": "execute_result"
    }
   ],
   "source": [
    "compute_equilibrium(1, 0.1, 1)"
   ]
  },
  {
   "cell_type": "markdown",
   "metadata": {},
   "source": [
    "Let's see this visually.  First we import the plotting library `matplotlib` in the standard way:"
   ]
  },
  {
   "cell_type": "code",
   "execution_count": 43,
   "metadata": {
    "collapsed": true
   },
   "outputs": [],
   "source": [
    "import matplotlib.pyplot as plt"
   ]
  },
  {
   "cell_type": "markdown",
   "metadata": {},
   "source": [
    "The next command is a Jupyter \"line magic\" that tells Jupyter to display figures in the browser:"
   ]
  },
  {
   "cell_type": "code",
   "execution_count": 44,
   "metadata": {
    "collapsed": true
   },
   "outputs": [],
   "source": [
    "%matplotlib inline"
   ]
  },
  {
   "cell_type": "markdown",
   "metadata": {},
   "source": [
    "Now let's plot supply and demand on a grid of points"
   ]
  },
  {
   "cell_type": "code",
   "execution_count": 45,
   "metadata": {
    "collapsed": false
   },
   "outputs": [
    {
     "data": {
      "text/plain": [
       "<matplotlib.legend.Legend at 0x7f283746c048>"
      ]
     },
     "execution_count": 45,
     "metadata": {},
     "output_type": "execute_result"
    },
    {
     "data": {
      "image/png": "[encoded data removed]",
      "text/plain": [
       "<matplotlib.figure.Figure at 0x7f2837352b00>"
      ]
     },
     "metadata": {},
     "output_type": "display_data"
    }
   ],
   "source": [
    "grid_size = 100\n",
    "grid = np.linspace(2, 4, grid_size)\n",
    "fig, ax = plt.subplots(figsize=(8, 6))\n",
    "ax.plot(grid, demand(grid, 1, 1), 'b-', label='demand')\n",
    "ax.plot(grid, supply(grid, 0.1), 'g-', label='supply')\n",
    "ax.set_xlabel('price', fontsize=14)\n",
    "ax.set_ylabel('quantity', fontsize=14)\n",
    "ax.legend(loc='upper center', frameon=False)"
   ]
  },
  {
   "cell_type": "markdown",
   "metadata": {},
   "source": [
    "Now let's output market clearing prices for all parameter configurations given in exercise 1 of the homework."
   ]
  },
  {
   "cell_type": "code",
   "execution_count": 46,
   "metadata": {
    "collapsed": false
   },
   "outputs": [
    {
     "name": "stdout",
     "output_type": "stream",
     "text": [
      "Price = 2.9334108855344145\n",
      "Price = 4.029893774711271\n",
      "Price = 2.0149468873557748\n",
      "Price = 2.0797854211141553\n"
     ]
    }
   ],
   "source": [
    "parameter_list = [[1, 0.1, 1],\n",
    "                  [2, 0.1, 1],\n",
    "                  [1, 0.2, 1],\n",
    "                  [1, 0.1, 2]]\n",
    "\n",
    "for parameters in parameter_list:\n",
    "    print(\"Price = {}\".format(compute_equilibrium(*parameters)))"
   ]
  },
  {
   "cell_type": "code",
   "execution_count": null,
   "metadata": {
    "collapsed": true
   },
   "outputs": [],
   "source": []
  }
 ],
 "metadata": {
  "kernelspec": {
   "display_name": "Python 3",
   "language": "python",
   "name": "python3"
  },
  "language_info": {
   "codemirror_mode": {
    "name": "ipython",
    "version": 3
   },
   "file_extension": ".py",
   "mimetype": "text/x-python",
   "name": "python",
   "nbconvert_exporter": "python",
   "pygments_lexer": "ipython3",
   "version": "3.5.1"
  }
 },
 "nbformat": 4,
 "nbformat_minor": 0
}

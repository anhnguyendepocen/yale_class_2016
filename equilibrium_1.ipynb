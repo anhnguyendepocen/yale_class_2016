{
 "cells": [
  {
   "cell_type": "markdown",
   "metadata": {},
   "source": [
    "## Equilibrium Price\n",
    "\n",
    "\n",
    "### Jan 2016"
   ]
  },
  {
   "cell_type": "code",
   "execution_count": 5,
   "metadata": {
    "collapsed": false
   },
   "outputs": [
    {
     "name": "stdout",
     "output_type": "stream",
     "text": [
      "23\n",
      "2.9334108501672738\n",
      "0.3409001165053871\n",
      "0.340900033803\n",
      "-8.27026802597e-08\n"
     ]
    }
   ],
   "source": [
    "from numpy import exp\n",
    "\n",
    "## Parameters\n",
    "a = 1\n",
    "b = 0.1\n",
    "epsilon = 1\n",
    "\n",
    "def supply(price):\n",
    "    return exp(b*price) - 1\n",
    "\n",
    "def demand(price):\n",
    "    return a*(price**(-epsilon))\n",
    "\n",
    "mxiter = 30\n",
    "toler = 1.0e-6\n",
    "\n",
    "plow = 0.1\n",
    "phigh = 10.0\n",
    "\n",
    "niter = mxiter\n",
    "\n",
    "for i in range(mxiter):\n",
    "\n",
    "    pcur = (plow + phigh)/2\n",
    "    yd = demand(pcur)\n",
    "    ys = supply(pcur)\n",
    "    excesssupply = ys - yd\n",
    "\n",
    "    if excesssupply > 0:\n",
    "        phigh = pcur\n",
    "    else:\n",
    "        plow = pcur\n",
    "\n",
    "    diff = abs(phigh - plow)\n",
    "\n",
    "    if diff <= toler:\n",
    "        niter = i\n",
    "        break\n",
    "\n",
    "pclear = (plow + phigh)/2\n",
    "yd = demand(pcur)\n",
    "ys = supply(pcur)\n",
    "excesssupply = ys - yd\n",
    "\n",
    "outputs = (niter, pclear, yd, ys, excesssupply)\n",
    "for output in outputs:\n",
    "    print(output)"
   ]
  },
  {
   "cell_type": "code",
   "execution_count": null,
   "metadata": {
    "collapsed": true
   },
   "outputs": [],
   "source": []
  }
 ],
 "metadata": {
  "kernelspec": {
   "display_name": "Python 3",
   "language": "python",
   "name": "python3"
  },
  "language_info": {
   "codemirror_mode": {
    "name": "ipython",
    "version": 3
   },
   "file_extension": ".py",
   "mimetype": "text/x-python",
   "name": "python",
   "nbconvert_exporter": "python",
   "pygments_lexer": "ipython3",
   "version": "3.5.1"
  }
 },
 "nbformat": 4,
 "nbformat_minor": 0
}
